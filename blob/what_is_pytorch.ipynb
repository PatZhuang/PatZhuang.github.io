{
  "nbformat": 4,
  "nbformat_minor": 0,
  "metadata": {
    "colab": {
      "name": "what_is_pytorch.ipynb",
      "version": "0.3.2",
      "provenance": [],
      "collapsed_sections": []
    },
    "kernelspec": {
      "name": "python3",
      "display_name": "Python 3"
    },
    "accelerator": "GPU"
  },
  "cells": [
    {
      "cell_type": "markdown",
      "metadata": {
        "id": "XJLiLoEMTSpw",
        "colab_type": "text"
      },
      "source": [
        "Pytorch 是一个基于 Python 的科学计算框架，它是：\n",
        "\n",
        "1. 替代 Numpy 以使用 GPU 进行计算的框架\n",
        "2. 一个灵活高效的深度学习研究平台"
      ]
    },
    {
      "cell_type": "markdown",
      "metadata": {
        "id": "ABmAwtnwT4YQ",
        "colab_type": "text"
      },
      "source": [
        "## Getting Started\n",
        "\n",
        "### Tensors\n",
        "\n",
        "> 张量 `Tensor` 和 Numpy 的 `ndarray` 是类似的，区别在于  `Tensor` 可以使用 GPU 来加速运算。"
      ]
    },
    {
      "cell_type": "code",
      "metadata": {
        "id": "V-0JZ-3OT4Fw",
        "colab_type": "code",
        "colab": {
          "base_uri": "https://localhost:8080/",
          "height": 105
        },
        "outputId": "f3d4c7e8-03da-46c0-875f-35153eb3d74e"
      },
      "source": [
        "import torch\n",
        "\n",
        "# torch.empty() 可以接受任意个位置参数，都会作为其 size 被传入\n",
        "# empty() 指的是未初始化，并不一定是 0\n",
        "# dtype 默认是 torch.float32\n",
        "# requires_grad 默认是 False\n",
        "x = torch.empty(5, 3, dtype=torch.int)\n",
        "print(x)"
      ],
      "execution_count": 9,
      "outputs": [
        {
          "output_type": "stream",
          "text": [
            "tensor([[  57295296,          0,         32],\n",
            "        [         0,         -1, 1919377267],\n",
            "        [ 875772209, 1681285730, 1700999478],\n",
            "        [ 929313588,  959657529,  926508385],\n",
            "        [ 909586743,  929194801,          0]], dtype=torch.int32)\n"
          ],
          "name": "stdout"
        }
      ]
    },
    {
      "cell_type": "markdown",
      "metadata": {
        "id": "efSBSoy6VCoZ",
        "colab_type": "text"
      },
      "source": [
        "创建张量的操作还有：\n",
        "- `torch.rand()`  均匀分布\n",
        "- `torch.zeros()` 全 0 \n",
        "- `torch.ones()` 全 1\n",
        "\n",
        "其他 Creation Ops 见 [Creation Ops](https://pytorch.org/docs/stable/torch.html#creation-ops)\n",
        "\n",
        "dtype 有：\n",
        "\n",
        "- torch.float/double/half, 分别是 float32/64/128 的 alias\n",
        "- torch.uint8\n",
        "- torch.int8\n",
        "- torch.short/int/long, 分别是 int16/32/64 的 alias\n",
        "\n",
        "注意某些 Create Ops 不支持特定类型的 dtype：如 rand() 不支持设置 dtype 为整型\n",
        "\n",
        "> `Tensor()` 方法可以使用已有的数据创建 `Tensor`"
      ]
    },
    {
      "cell_type": "code",
      "metadata": {
        "id": "Eu7E3LsxTKLF",
        "colab_type": "code",
        "colab": {
          "base_uri": "https://localhost:8080/",
          "height": 34
        },
        "outputId": "855049c4-6ab5-4e16-83d6-22e9ddaa0ceb"
      },
      "source": [
        "x = torch.tensor([5.5, 3])\n",
        "print(x)"
      ],
      "execution_count": 10,
      "outputs": [
        {
          "output_type": "stream",
          "text": [
            "tensor([5.5000, 3.0000])\n"
          ],
          "name": "stdout"
        }
      ]
    },
    {
      "cell_type": "markdown",
      "metadata": {
        "id": "r3jgNZBUXZfl",
        "colab_type": "text"
      },
      "source": [
        "> 也可以使用一个已有的 `Tensor` 来创建新的 `Tensor`"
      ]
    },
    {
      "cell_type": "code",
      "metadata": {
        "id": "yAN-TSaUWj8T",
        "colab_type": "code",
        "colab": {
          "base_uri": "https://localhost:8080/",
          "height": 194
        },
        "outputId": "3f787a3d-220c-4727-dcf0-e33581eaa181"
      },
      "source": [
        "x = x.new_ones(5, 3, dtype=torch.double) # new 方法的第一个（组）参数是 sizes\n",
        "print(x)\n",
        "\n",
        "x = torch.randn_like(x, dtype = torch.float) # like 方法的 第一个参数是一个 Tensor\n",
        "print(x)"
      ],
      "execution_count": 11,
      "outputs": [
        {
          "output_type": "stream",
          "text": [
            "tensor([[1., 1., 1.],\n",
            "        [1., 1., 1.],\n",
            "        [1., 1., 1.],\n",
            "        [1., 1., 1.],\n",
            "        [1., 1., 1.]], dtype=torch.float64)\n",
            "tensor([[-0.2946,  1.0456, -1.5647],\n",
            "        [ 0.4752, -0.3783,  1.0725],\n",
            "        [-0.8837, -0.3588,  1.1728],\n",
            "        [ 0.2643, -1.6873, -0.2031],\n",
            "        [ 0.9122, -0.6149,  1.2947]])\n"
          ],
          "name": "stdout"
        }
      ]
    },
    {
      "cell_type": "markdown",
      "metadata": {
        "id": "OnyS3jDjX2nM",
        "colab_type": "text"
      },
      "source": [
        "**注意 `new_ones()` 和 `randn_like()` 都是 `Tensor` 的方法而不是 `torch` 的方法。**\n",
        "\n",
        "new 方法还有：\n",
        "- `new_tensor()`\n",
        "- `new_zeros()`\n",
        "- `new_full()` 第二个参数是 fill_value, 因此 size 必须用 tuple 的方式传入\n",
        "- `new_empty()`\n",
        "\n",
        "like 方法还有（）：\n",
        "- `ones_like()`\n",
        "- `zeros_like()`\n",
        "- `empty_like()`\n",
        "- `full_like()` 第二个参数是 fill_value\n",
        "- `randn_like()`\n",
        "- `randint_like()`\n",
        "\n",
        "参数和含义不言自明"
      ]
    },
    {
      "cell_type": "markdown",
      "metadata": {
        "id": "VOJds9gbZuji",
        "colab_type": "text"
      },
      "source": [
        "> 使用 `size()` 方法获取 `Tensor` 的 size"
      ]
    },
    {
      "cell_type": "code",
      "metadata": {
        "id": "VZ_z0bydX2Nj",
        "colab_type": "code",
        "colab": {
          "base_uri": "https://localhost:8080/",
          "height": 34
        },
        "outputId": "c50d846c-5245-45ff-e071-5a79cdcfa0aa"
      },
      "source": [
        "print(x.size())"
      ],
      "execution_count": 12,
      "outputs": [
        {
          "output_type": "stream",
          "text": [
            "torch.Size([5, 3])\n"
          ],
          "name": "stdout"
        }
      ]
    },
    {
      "cell_type": "markdown",
      "metadata": {
        "id": "TIlvYPjdZ3D2",
        "colab_type": "text"
      },
      "source": [
        "## Operations"
      ]
    },
    {
      "cell_type": "markdown",
      "metadata": {
        "id": "BJ4rmLctaHpM",
        "colab_type": "text"
      },
      "source": [
        "> pytorch 的运算符可以有多种写法，下面演示加法运算的三种写法"
      ]
    },
    {
      "cell_type": "code",
      "metadata": {
        "id": "ivT3ONlIXZMR",
        "colab_type": "code",
        "colab": {
          "base_uri": "https://localhost:8080/",
          "height": 372
        },
        "outputId": "c28a55c9-ea26-45bd-e208-ba11269c339b"
      },
      "source": [
        "# syntax 1\n",
        "\n",
        "y = torch.rand(5, 3)\n",
        "print(x + y)\n",
        "\n",
        "# syntax 2\n",
        "print(torch.add(x, y))\n",
        "\n",
        "# torch.add() 方法是 out-of-place 方法，返回结果的一个拷贝\n",
        "# 可以显式指定结果输出到某个 Tensor\n",
        "result = torch.empty(5, 3)\n",
        "torch.add(x, y, out=result)\n",
        "print(result)\n",
        "\n",
        "# torch.add_() 方法是 add() 方法的 In-place 实现，会修改原 Tensor\n",
        "y.add_(x)\n",
        "print(y)"
      ],
      "execution_count": 14,
      "outputs": [
        {
          "output_type": "stream",
          "text": [
            "tensor([[-0.0793,  1.9369, -1.3093],\n",
            "        [ 1.1482,  0.6042,  1.7828],\n",
            "        [-0.5631,  0.2925,  2.1060],\n",
            "        [ 0.7887, -1.5744,  0.0134],\n",
            "        [ 1.4497, -0.3362,  1.4013]])\n",
            "tensor([[-0.0793,  1.9369, -1.3093],\n",
            "        [ 1.1482,  0.6042,  1.7828],\n",
            "        [-0.5631,  0.2925,  2.1060],\n",
            "        [ 0.7887, -1.5744,  0.0134],\n",
            "        [ 1.4497, -0.3362,  1.4013]])\n",
            "tensor([[-0.0793,  1.9369, -1.3093],\n",
            "        [ 1.1482,  0.6042,  1.7828],\n",
            "        [-0.5631,  0.2925,  2.1060],\n",
            "        [ 0.7887, -1.5744,  0.0134],\n",
            "        [ 1.4497, -0.3362,  1.4013]])\n",
            "tensor([[-0.0793,  1.9369, -1.3093],\n",
            "        [ 1.1482,  0.6042,  1.7828],\n",
            "        [-0.5631,  0.2925,  2.1060],\n",
            "        [ 0.7887, -1.5744,  0.0134],\n",
            "        [ 1.4497, -0.3362,  1.4013]])\n"
          ],
          "name": "stdout"
        }
      ]
    },
    {
      "cell_type": "markdown",
      "metadata": {
        "id": "AQNl-XqUbrup",
        "colab_type": "text"
      },
      "source": [
        "> Pytorch 中的 In-place 方法都在是 out-of-place 方法后面添加下划线 `_`，比如 `x.copy_(y)` 和 `x.t_(y)` 都会改变 x\n",
        "\n",
        "> `Tensor` 支持使用 numpy-like 的 indexing "
      ]
    },
    {
      "cell_type": "code",
      "metadata": {
        "id": "hHxS4sjtbPTE",
        "colab_type": "code",
        "colab": {
          "base_uri": "https://localhost:8080/",
          "height": 34
        },
        "outputId": "0212997b-bfd9-4742-853d-86d5b4caef5a"
      },
      "source": [
        "print(x[:, 1]) # 选择第一列（下标从 0 开始）"
      ],
      "execution_count": 18,
      "outputs": [
        {
          "output_type": "stream",
          "text": [
            "torch.Size([5])\n"
          ],
          "name": "stdout"
        }
      ]
    },
    {
      "cell_type": "markdown",
      "metadata": {
        "id": "JaPXi1UxcjlV",
        "colab_type": "text"
      },
      "source": [
        "> 如果需要 resize/reshape 一个 `Tensor`, 使用 `torch.view()` 方法。该方法返回一个视图（引用），对引用的修改会影响原 `Tensor`"
      ]
    },
    {
      "cell_type": "code",
      "metadata": {
        "id": "UGf26TPvcSVJ",
        "colab_type": "code",
        "colab": {
          "base_uri": "https://localhost:8080/",
          "height": 34
        },
        "outputId": "b1e31d71-dfa7-4f49-ac94-609b68d19336"
      },
      "source": [
        "x = torch.randn(4, 4)\n",
        "y = x.view(16)\n",
        "z = x.view(-1, 8) # 标注 -1 的维会自动推断长度\n",
        "\n",
        "print(x.size(), y.size(), z.size())"
      ],
      "execution_count": 19,
      "outputs": [
        {
          "output_type": "stream",
          "text": [
            "torch.Size([4, 4]) torch.Size([16]) torch.Size([2, 8])\n"
          ],
          "name": "stdout"
        }
      ]
    },
    {
      "cell_type": "code",
      "metadata": {
        "id": "ttQmh9P2c9Kf",
        "colab_type": "code",
        "colab": {
          "base_uri": "https://localhost:8080/",
          "height": 178
        },
        "outputId": "787d9a82-d540-4f27-ced9-d5a552773282"
      },
      "source": [
        "# 修改视图会影响原数组\n",
        "y[0] = y[1] = 1\n",
        "print(x, y, z, sep='\\n')"
      ],
      "execution_count": 23,
      "outputs": [
        {
          "output_type": "stream",
          "text": [
            "tensor([[ 1.0000,  1.0000,  0.0283,  1.7525],\n",
            "        [-0.0878,  0.7748,  0.6290,  1.5902],\n",
            "        [ 1.5881, -0.3212, -0.4184, -0.6173],\n",
            "        [-0.2075,  0.7519, -2.6151, -0.7988]])\n",
            "tensor([ 1.0000,  1.0000,  0.0283,  1.7525, -0.0878,  0.7748,  0.6290,  1.5902,\n",
            "         1.5881, -0.3212, -0.4184, -0.6173, -0.2075,  0.7519, -2.6151, -0.7988])\n",
            "tensor([[ 1.0000,  1.0000,  0.0283,  1.7525, -0.0878,  0.7748,  0.6290,  1.5902],\n",
            "        [ 1.5881, -0.3212, -0.4184, -0.6173, -0.2075,  0.7519, -2.6151, -0.7988]])\n"
          ],
          "name": "stdout"
        }
      ]
    },
    {
      "cell_type": "markdown",
      "metadata": {
        "id": "jY9xx01UdY9w",
        "colab_type": "text"
      },
      "source": [
        "> 使用 `Tensor.item()` 方法可以将单值 `Tensor` 变为标量"
      ]
    },
    {
      "cell_type": "code",
      "metadata": {
        "id": "fcM0LejedEmX",
        "colab_type": "code",
        "colab": {
          "base_uri": "https://localhost:8080/",
          "height": 52
        },
        "outputId": "1be28c2a-368d-4234-eac6-fd7033ce7ab7"
      },
      "source": [
        "x = torch.randn(1)\n",
        "print(x, x.item(), sep='\\n')"
      ],
      "execution_count": 24,
      "outputs": [
        {
          "output_type": "stream",
          "text": [
            "tensor([-0.0736])\n",
            "-0.0735730454325676\n"
          ],
          "name": "stdout"
        }
      ]
    },
    {
      "cell_type": "markdown",
      "metadata": {
        "id": "6FGmM2YSdo0n",
        "colab_type": "text"
      },
      "source": [
        "## Numpy Bridge\n",
        "\n",
        "很容易可以在 Numpy array 和 `Tensor` 之间相互转换，注意转换前后的两者共享存储，修改其一会影响另一者。"
      ]
    },
    {
      "cell_type": "markdown",
      "metadata": {
        "id": "qBQ0cX1ZeE7M",
        "colab_type": "text"
      },
      "source": [
        "### Tensor 转换为 Numpy Array\n",
        "\n",
        "> 使用 `Tensor.numpy()` 方法可以将 `Tensor` 转换为 Numpy Array"
      ]
    },
    {
      "cell_type": "code",
      "metadata": {
        "id": "l_XzFpVXdh5r",
        "colab_type": "code",
        "colab": {
          "base_uri": "https://localhost:8080/",
          "height": 52
        },
        "outputId": "696a4e49-da8c-4dfd-de8f-9116cdf58a13"
      },
      "source": [
        "a = torch.ones(5)\n",
        "b = a.numpy()\n",
        "print('Tensor     :', a)\n",
        "print('Numpy Array:', b)"
      ],
      "execution_count": 25,
      "outputs": [
        {
          "output_type": "stream",
          "text": [
            "Tensor     : tensor([1., 1., 1., 1., 1.])\n",
            "Numpy Array: [1. 1. 1. 1. 1.]\n"
          ],
          "name": "stdout"
        }
      ]
    },
    {
      "cell_type": "code",
      "metadata": {
        "id": "KUdkoMBWeY-i",
        "colab_type": "code",
        "colab": {
          "base_uri": "https://localhost:8080/",
          "height": 52
        },
        "outputId": "54dc0eba-c9f1-4ced-b283-b0bc947fcae9"
      },
      "source": [
        "# 修改 a 会影响 b\n",
        "a.add_(1) # 这里会触发广播\n",
        "print('Tensor     :', a)\n",
        "print('Numpy Array:', b)"
      ],
      "execution_count": 26,
      "outputs": [
        {
          "output_type": "stream",
          "text": [
            "Tensor     : tensor([2., 2., 2., 2., 2.])\n",
            "Numpy Array: [2. 2. 2. 2. 2.]\n"
          ],
          "name": "stdout"
        }
      ]
    },
    {
      "cell_type": "markdown",
      "metadata": {
        "id": "OMwpIFppel1t",
        "colab_type": "text"
      },
      "source": [
        "### Numpy Array 转换为 Tensor\n",
        "\n",
        "> 使用 `torch.from_numpy()` 可以将 Numpy Array 转换为 `Tensor`. 注意两个方向上的转换都不是使用 Numpy 的方法"
      ]
    },
    {
      "cell_type": "code",
      "metadata": {
        "id": "EHWZ7BeyejtT",
        "colab_type": "code",
        "colab": {
          "base_uri": "https://localhost:8080/",
          "height": 52
        },
        "outputId": "d20a016e-7e85-48a2-e886-b46fe075f0af"
      },
      "source": [
        "import numpy as np\n",
        "\n",
        "\n",
        "a = np.ones(5) # 注意 np.ones() 默认的 dtype 是 float64\n",
        "b = torch.from_numpy(a)\n",
        "np.add(a, 1, out=a)\n",
        "print('Numpy Array:', a)\n",
        "print('Tensor     :', b) # 转换后的 dtype 也是 float64"
      ],
      "execution_count": 27,
      "outputs": [
        {
          "output_type": "stream",
          "text": [
            "Numpy Array: [2. 2. 2. 2. 2.]\n",
            "Tensor     : tensor([2., 2., 2., 2., 2.], dtype=torch.float64)\n"
          ],
          "name": "stdout"
        }
      ]
    },
    {
      "cell_type": "markdown",
      "metadata": {
        "id": "1fAgcP_Ufl3U",
        "colab_type": "text"
      },
      "source": [
        "## CUDA Tensors\n",
        "\n",
        "`Tensor` 可以使用 `.to()` 方法移动到任意的 `device` 上，比如 CUDA\n",
        "\n",
        "`.to()` 方法可以同时更改 `Tensor` 存储的设备位置和 dtype"
      ]
    },
    {
      "cell_type": "code",
      "metadata": {
        "id": "FW3xwLfXfTWd",
        "colab_type": "code",
        "colab": {
          "base_uri": "https://localhost:8080/",
          "height": 52
        },
        "outputId": "3053a74e-226e-4aee-b5d8-ffe73433d028"
      },
      "source": [
        "import torch\n",
        "\n",
        "\n",
        "if torch.cuda.is_available(): # CUDA 存在时才运行\n",
        "    device = torch.device(\"cuda\") # 获取默认的 cuda 设备\n",
        "    x = torch.randn(1) # x 此时是在 CPU 上\n",
        "    y = torch.ones_like(x, device=device) # y 在 GPU 上\n",
        "    x = x.to(device) # 使用 .to() 方法将 x 送往 GPU\n",
        "    z = x + y # 在 GPU 上执行运算，z 默认存放在 GPU 上 \n",
        "    print(z)\n",
        "    print(z.to('cpu', torch.double)) # 将 z 送往 CPU，同时更改 dtype"
      ],
      "execution_count": 3,
      "outputs": [
        {
          "output_type": "stream",
          "text": [
            "tensor([1.9882], device='cuda:0')\n",
            "tensor([1.9882], dtype=torch.float64)\n"
          ],
          "name": "stdout"
        }
      ]
    },
    {
      "cell_type": "code",
      "metadata": {
        "id": "yqoqJZV0gh1_",
        "colab_type": "code",
        "colab": {}
      },
      "source": [
        ""
      ],
      "execution_count": 0,
      "outputs": []
    }
  ]
}